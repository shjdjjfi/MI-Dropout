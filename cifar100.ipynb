{
 "cells": [
  {
   "cell_type": "code",
   "execution_count": 1,
   "id": "6f2d696f-d2a9-464c-bf9b-350b7973005b",
   "metadata": {},
   "outputs": [
    {
     "name": "stderr",
     "output_type": "stream",
     "text": [
      "2023-03-26 17:39:11.281098: I tensorflow/core/platform/cpu_feature_guard.cc:193] This TensorFlow binary is optimized with oneAPI Deep Neural Network Library (oneDNN) to use the following CPU instructions in performance-critical operations:  AVX2 AVX512F AVX512_VNNI FMA\n",
      "To enable them in other operations, rebuild TensorFlow with the appropriate compiler flags.\n",
      "2023-03-26 17:39:11.390968: I tensorflow/core/util/port.cc:104] oneDNN custom operations are on. You may see slightly different numerical results due to floating-point round-off errors from different computation orders. To turn them off, set the environment variable `TF_ENABLE_ONEDNN_OPTS=0`.\n",
      "2023-03-26 17:39:12.086459: W tensorflow/compiler/xla/stream_executor/platform/default/dso_loader.cc:64] Could not load dynamic library 'libnvinfer.so.7'; dlerror: libnvinfer.so.7: cannot open shared object file: No such file or directory; LD_LIBRARY_PATH: /usr/local/nvidia/lib:/usr/local/nvidia/lib64\n",
      "2023-03-26 17:39:12.086533: W tensorflow/compiler/xla/stream_executor/platform/default/dso_loader.cc:64] Could not load dynamic library 'libnvinfer_plugin.so.7'; dlerror: libnvinfer_plugin.so.7: cannot open shared object file: No such file or directory; LD_LIBRARY_PATH: /usr/local/nvidia/lib:/usr/local/nvidia/lib64\n",
      "2023-03-26 17:39:12.086539: W tensorflow/compiler/tf2tensorrt/utils/py_utils.cc:38] TF-TRT Warning: Cannot dlopen some TensorRT libraries. If you would like to use Nvidia GPU with TensorRT, please make sure the missing libraries mentioned above are installed properly.\n",
      "2023-03-26 17:39:14.287339: I tensorflow/core/platform/cpu_feature_guard.cc:193] This TensorFlow binary is optimized with oneAPI Deep Neural Network Library (oneDNN) to use the following CPU instructions in performance-critical operations:  AVX2 AVX512F AVX512_VNNI FMA\n",
      "To enable them in other operations, rebuild TensorFlow with the appropriate compiler flags.\n",
      "2023-03-26 17:39:14.924969: I tensorflow/core/common_runtime/gpu/gpu_device.cc:1613] Created device /job:localhost/replica:0/task:0/device:GPU:0 with 78977 MB memory:  -> device: 0, name: NVIDIA A100-SXM4-80GB, pci bus id: 0000:65:01.0, compute capability: 8.0\n"
     ]
    },
    {
     "name": "stdout",
     "output_type": "stream",
     "text": [
      "Epoch 1/10\n"
     ]
    },
    {
     "name": "stderr",
     "output_type": "stream",
     "text": [
      "2023-03-26 17:39:17.949888: I tensorflow/compiler/xla/stream_executor/cuda/cuda_blas.cc:630] TensorFloat-32 will be used for the matrix multiplication. This will only be logged once.\n",
      "2023-03-26 17:39:17.952786: I tensorflow/compiler/xla/service/service.cc:173] XLA service 0x7f1c96be26c0 initialized for platform CUDA (this does not guarantee that XLA will be used). Devices:\n",
      "2023-03-26 17:39:17.952876: I tensorflow/compiler/xla/service/service.cc:181]   StreamExecutor device (0): NVIDIA A100-SXM4-80GB, Compute Capability 8.0\n",
      "2023-03-26 17:39:17.957350: I tensorflow/compiler/mlir/tensorflow/utils/dump_mlir_util.cc:268] disabling MLIR crash reproducer, set env var `MLIR_CRASH_REPRODUCER_DIRECTORY` to enable.\n",
      "2023-03-26 17:39:18.099634: I tensorflow/compiler/jit/xla_compilation_cache.cc:477] Compiled cluster using XLA!  This line is logged at most once for the lifetime of the process.\n"
     ]
    },
    {
     "name": "stdout",
     "output_type": "stream",
     "text": [
      "250/250 [==============================] - 3s 4ms/step - loss: 4.5497 - accuracy: 0.0182 - val_loss: 4.3600 - val_accuracy: 0.0418\n",
      "Epoch 2/10\n",
      "250/250 [==============================] - 1s 3ms/step - loss: 4.4176 - accuracy: 0.0264 - val_loss: 4.2517 - val_accuracy: 0.0466\n",
      "Epoch 3/10\n",
      "250/250 [==============================] - 1s 3ms/step - loss: 4.3575 - accuracy: 0.0298 - val_loss: 4.2136 - val_accuracy: 0.0562\n",
      "Epoch 4/10\n",
      "250/250 [==============================] - 1s 3ms/step - loss: 4.3099 - accuracy: 0.0365 - val_loss: 4.2161 - val_accuracy: 0.0585\n",
      "Epoch 5/10\n",
      "250/250 [==============================] - 1s 3ms/step - loss: 4.2711 - accuracy: 0.0389 - val_loss: 4.1995 - val_accuracy: 0.0635\n",
      "Epoch 6/10\n",
      "250/250 [==============================] - 1s 3ms/step - loss: 4.2558 - accuracy: 0.0411 - val_loss: 4.1903 - val_accuracy: 0.0649\n",
      "Epoch 7/10\n",
      "250/250 [==============================] - 1s 3ms/step - loss: 4.2404 - accuracy: 0.0433 - val_loss: 4.1671 - val_accuracy: 0.0660\n",
      "Epoch 8/10\n",
      "250/250 [==============================] - 1s 3ms/step - loss: 4.2310 - accuracy: 0.0453 - val_loss: 4.1870 - val_accuracy: 0.0676\n",
      "Epoch 9/10\n",
      "250/250 [==============================] - 1s 3ms/step - loss: 4.2153 - accuracy: 0.0455 - val_loss: 4.1733 - val_accuracy: 0.0690\n",
      "Epoch 10/10\n",
      "250/250 [==============================] - 1s 4ms/step - loss: 4.2141 - accuracy: 0.0474 - val_loss: 4.1624 - val_accuracy: 0.0711\n"
     ]
    },
    {
     "data": {
      "text/plain": [
       "<keras.callbacks.History at 0x7f37dc97f820>"
      ]
     },
     "execution_count": 1,
     "metadata": {},
     "output_type": "execute_result"
    }
   ],
   "source": [
    "import numpy as np\n",
    "import keras as K\n",
    "import  tensorflow as  tf\n",
    "from keras.models import Sequential\n",
    "from keras.layers import Dense, Dropout\n",
    "from keras.utils import np_utils\n",
    "from keras.datasets import cifar100\n",
    "\n",
    "\n",
    "# 加载数据\n",
    "(X_train, y_train), (X_test, y_test) = cifar100.load_data()\n",
    "\n",
    "# 处理数据\n",
    "num_pixels = X_train.shape[1] * X_train.shape[2] * X_train.shape[3]\n",
    "X_train = X_train.reshape(X_train.shape[0], num_pixels).astype('float32')\n",
    "X_test = X_test.reshape(X_test.shape[0], num_pixels).astype('float32')\n",
    "\n",
    "# 标准化数据\n",
    "X_train /= 255\n",
    "X_test /= 255\n",
    "\n",
    "# 对标签进行one-hot编码\n",
    "y_train = np_utils.to_categorical(y_train)\n",
    "y_test = np_utils.to_categorical(y_test)\n",
    "num_classes = y_test.shape[1]\n",
    "\n",
    "# 定义模型\n",
    "model = Sequential()\n",
    "model.add(Dense(512, input_dim=num_pixels, activation='relu'))\n",
    "model.add(Dropout(0.5))\n",
    "model.add(Dense(256, activation='relu'))\n",
    "model.add(Dropout(0.5))\n",
    "model.add(Dense(num_classes, activation='softmax'))\n",
    "\n",
    "# 编译模型\n",
    "model.compile(loss='categorical_crossentropy', optimizer='adam', metrics=['accuracy'])\n",
    "\n",
    "# 训练模型\n",
    "model.fit(X_train, y_train, validation_data=(X_test, y_test), epochs=10, batch_size=200)"
   ]
  },
  {
   "cell_type": "code",
   "execution_count": 2,
   "id": "c9ff6d31-d602-486e-a77c-be84e1f49853",
   "metadata": {},
   "outputs": [
    {
     "name": "stdout",
     "output_type": "stream",
     "text": [
      "Epoch 1/10\n",
      "250/250 [==============================] - 2s 4ms/step - loss: 4.9808 - accuracy: 0.0099 - val_loss: 4.6052 - val_accuracy: 0.0100\n",
      "Epoch 2/10\n",
      "250/250 [==============================] - 1s 3ms/step - loss: 4.8134 - accuracy: 0.0099 - val_loss: 4.6052 - val_accuracy: 0.0100\n",
      "Epoch 3/10\n",
      "250/250 [==============================] - 1s 3ms/step - loss: 4.7455 - accuracy: 0.0104 - val_loss: 4.6052 - val_accuracy: 0.0100\n",
      "Epoch 4/10\n",
      "250/250 [==============================] - 1s 3ms/step - loss: 4.7003 - accuracy: 0.0103 - val_loss: 4.6052 - val_accuracy: 0.0100\n",
      "Epoch 5/10\n",
      "250/250 [==============================] - 1s 3ms/step - loss: 4.6757 - accuracy: 0.0090 - val_loss: 4.6052 - val_accuracy: 0.0100\n",
      "Epoch 6/10\n",
      "250/250 [==============================] - 1s 4ms/step - loss: 4.6605 - accuracy: 0.0103 - val_loss: 4.6052 - val_accuracy: 0.0100\n",
      "Epoch 7/10\n",
      "250/250 [==============================] - 1s 3ms/step - loss: 4.6519 - accuracy: 0.0095 - val_loss: 4.6044 - val_accuracy: 0.0088\n",
      "Epoch 8/10\n",
      "250/250 [==============================] - 1s 3ms/step - loss: 4.6012 - accuracy: 0.0136 - val_loss: 4.6217 - val_accuracy: 0.0236\n",
      "Epoch 9/10\n",
      "250/250 [==============================] - 1s 3ms/step - loss: 4.4406 - accuracy: 0.0246 - val_loss: 5.1315 - val_accuracy: 0.0468\n",
      "Epoch 10/10\n",
      "250/250 [==============================] - 1s 4ms/step - loss: 4.3159 - accuracy: 0.0370 - val_loss: 5.1674 - val_accuracy: 0.0614\n"
     ]
    },
    {
     "data": {
      "text/plain": [
       "<keras.callbacks.History at 0x7f37d07eafa0>"
      ]
     },
     "execution_count": 2,
     "metadata": {},
     "output_type": "execute_result"
    }
   ],
   "source": [
    "import numpy as np\n",
    "import keras as K\n",
    "import  tensorflow as  tf\n",
    "from keras.models import Sequential\n",
    "from keras.layers import Dense, AlphaDropout\n",
    "from keras.utils import np_utils\n",
    "from keras.datasets import cifar100\n",
    "\n",
    "\n",
    "# 加载数据\n",
    "(X_train, y_train), (X_test, y_test) = cifar100.load_data()\n",
    "\n",
    "# 处理数据\n",
    "num_pixels = X_train.shape[1] * X_train.shape[2] * X_train.shape[3]\n",
    "X_train = X_train.reshape(X_train.shape[0], num_pixels).astype('float32')\n",
    "X_test = X_test.reshape(X_test.shape[0], num_pixels).astype('float32')\n",
    "\n",
    "# 标准化数据\n",
    "X_train /= 255\n",
    "X_test /= 255\n",
    "\n",
    "# 对标签进行one-hot编码\n",
    "y_train = np_utils.to_categorical(y_train)\n",
    "y_test = np_utils.to_categorical(y_test)\n",
    "num_classes = y_test.shape[1]\n",
    "\n",
    "# 定义模型\n",
    "model = Sequential()\n",
    "model.add(Dense(512, input_dim=num_pixels, activation='relu'))\n",
    "model.add(AlphaDropout(0.5))\n",
    "model.add(Dense(256, activation='relu'))\n",
    "model.add(AlphaDropout(0.5))\n",
    "model.add(Dense(num_classes, activation='softmax'))\n",
    "\n",
    "# 编译模型\n",
    "model.compile(loss='categorical_crossentropy', optimizer='adam', metrics=['accuracy'])\n",
    "\n",
    "# 训练模型\n",
    "model.fit(X_train, y_train, validation_data=(X_test, y_test), epochs=10, batch_size=200)"
   ]
  },
  {
   "cell_type": "code",
   "execution_count": 3,
   "id": "da78c589-2039-44ac-b8f5-577cd9dab532",
   "metadata": {},
   "outputs": [
    {
     "name": "stdout",
     "output_type": "stream",
     "text": [
      "Epoch 1/10\n",
      "250/250 [==============================] - 2s 4ms/step - loss: 4.5463 - accuracy: 0.0191 - val_loss: 4.3597 - val_accuracy: 0.0362\n",
      "Epoch 2/10\n",
      "250/250 [==============================] - 1s 3ms/step - loss: 4.3888 - accuracy: 0.0316 - val_loss: 4.2589 - val_accuracy: 0.0552\n",
      "Epoch 3/10\n",
      "250/250 [==============================] - 1s 4ms/step - loss: 4.3156 - accuracy: 0.0375 - val_loss: 4.1711 - val_accuracy: 0.0602\n",
      "Epoch 4/10\n",
      "250/250 [==============================] - 1s 3ms/step - loss: 4.2642 - accuracy: 0.0421 - val_loss: 4.1672 - val_accuracy: 0.0665\n",
      "Epoch 5/10\n",
      "250/250 [==============================] - 1s 3ms/step - loss: 4.2403 - accuracy: 0.0451 - val_loss: 4.1483 - val_accuracy: 0.0671\n",
      "Epoch 6/10\n",
      "250/250 [==============================] - 1s 3ms/step - loss: 4.2200 - accuracy: 0.0455 - val_loss: 4.1050 - val_accuracy: 0.0721\n",
      "Epoch 7/10\n",
      "250/250 [==============================] - 1s 3ms/step - loss: 4.1923 - accuracy: 0.0487 - val_loss: 4.0686 - val_accuracy: 0.0751\n",
      "Epoch 8/10\n",
      "250/250 [==============================] - 1s 3ms/step - loss: 4.1765 - accuracy: 0.0529 - val_loss: 4.0635 - val_accuracy: 0.0749\n",
      "Epoch 9/10\n",
      "250/250 [==============================] - 1s 3ms/step - loss: 4.1606 - accuracy: 0.0554 - val_loss: 4.0336 - val_accuracy: 0.0866\n",
      "Epoch 10/10\n",
      "250/250 [==============================] - 1s 3ms/step - loss: 4.1533 - accuracy: 0.0574 - val_loss: 4.0123 - val_accuracy: 0.0878\n"
     ]
    },
    {
     "data": {
      "text/plain": [
       "<keras.callbacks.History at 0x7f37d0658dc0>"
      ]
     },
     "execution_count": 3,
     "metadata": {},
     "output_type": "execute_result"
    }
   ],
   "source": [
    "import numpy as np\n",
    "import keras as K\n",
    "import  tensorflow as  tf\n",
    "from keras.models import Sequential\n",
    "from keras.layers import Dense, GaussianDropout\n",
    "from keras.utils import np_utils\n",
    "from keras.datasets import cifar100\n",
    "\n",
    "\n",
    "# 加载数据\n",
    "(X_train, y_train), (X_test, y_test) = cifar100.load_data()\n",
    "\n",
    "# 处理数据\n",
    "num_pixels = X_train.shape[1] * X_train.shape[2] * X_train.shape[3]\n",
    "X_train = X_train.reshape(X_train.shape[0], num_pixels).astype('float32')\n",
    "X_test = X_test.reshape(X_test.shape[0], num_pixels).astype('float32')\n",
    "\n",
    "# 标准化数据\n",
    "X_train /= 255\n",
    "X_test /= 255\n",
    "\n",
    "# 对标签进行one-hot编码\n",
    "y_train = np_utils.to_categorical(y_train)\n",
    "y_test = np_utils.to_categorical(y_test)\n",
    "num_classes = y_test.shape[1]\n",
    "\n",
    "# 定义模型\n",
    "model = Sequential()\n",
    "model.add(Dense(512, input_dim=num_pixels, activation='relu'))\n",
    "model.add(GaussianDropout(0.5))\n",
    "model.add(Dense(256, activation='relu'))\n",
    "model.add(GaussianDropout(0.5))\n",
    "model.add(Dense(num_classes, activation='softmax'))\n",
    "\n",
    "# 编译模型\n",
    "model.compile(loss='categorical_crossentropy', optimizer='adam', metrics=['accuracy'])\n",
    "\n",
    "# 训练模型\n",
    "model.fit(X_train, y_train, validation_data=(X_test, y_test), epochs=10, batch_size=200)"
   ]
  },
  {
   "cell_type": "code",
   "execution_count": null,
   "id": "31604be2-27ce-4e34-9246-7e282c1eac28",
   "metadata": {},
   "outputs": [],
   "source": []
  }
 ],
 "metadata": {
  "kernelspec": {
   "display_name": "Python 3 (ipykernel)",
   "language": "python",
   "name": "python3"
  },
  "language_info": {
   "codemirror_mode": {
    "name": "ipython",
    "version": 3
   },
   "file_extension": ".py",
   "mimetype": "text/x-python",
   "name": "python",
   "nbconvert_exporter": "python",
   "pygments_lexer": "ipython3",
   "version": "3.8.10"
  }
 },
 "nbformat": 4,
 "nbformat_minor": 5
}
