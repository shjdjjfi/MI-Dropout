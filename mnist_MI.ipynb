{
 "cells": [
  {
   "cell_type": "code",
   "execution_count": 2,
   "id": "dbf5af12-5539-495b-8b30-bf61b75f85af",
   "metadata": {},
   "outputs": [
    {
     "name": "stdout",
     "output_type": "stream",
     "text": [
      "Looking in indexes: https://repo.huaweicloud.com/repository/pypi/simple\n",
      "Requirement already satisfied: sklearn in ./miniconda3/lib/python3.8/site-packages (0.0.post1)\n",
      "\u001b[33mWARNING: Running pip as the 'root' user can result in broken permissions and conflicting behaviour with the system package manager. It is recommended to use a virtual environment instead: https://pip.pypa.io/warnings/venv\u001b[0m\n",
      "Looking in indexes: https://repo.huaweicloud.com/repository/pypi/simple\n",
      "Requirement already satisfied: scikit_learn in ./miniconda3/lib/python3.8/site-packages (1.1.3)\n",
      "Requirement already satisfied: threadpoolctl>=2.0.0 in ./miniconda3/lib/python3.8/site-packages (from scikit_learn) (3.1.0)\n",
      "Requirement already satisfied: joblib>=1.0.0 in ./miniconda3/lib/python3.8/site-packages (from scikit_learn) (1.1.0)\n",
      "Requirement already satisfied: numpy>=1.17.3 in ./miniconda3/lib/python3.8/site-packages (from scikit_learn) (1.23.1)\n",
      "Requirement already satisfied: scipy>=1.3.2 in ./miniconda3/lib/python3.8/site-packages (from scikit_learn) (1.9.3)\n",
      "\u001b[33mWARNING: Running pip as the 'root' user can result in broken permissions and conflicting behaviour with the system package manager. It is recommended to use a virtual environment instead: https://pip.pypa.io/warnings/venv\u001b[0m\n",
      "Looking in indexes: https://repo.huaweicloud.com/repository/pypi/simple\n",
      "Collecting pandas\n",
      "  Downloading https://repo.huaweicloud.com/repository/pypi/packages/9c/6c/3bfce7f343360c1b537fb59ecbf6865e21d5c8d9e07a632bc6725744e919/pandas-1.5.2-cp38-cp38-manylinux_2_17_x86_64.manylinux2014_x86_64.whl (12.2 MB)\n",
      "\u001b[K     |████████████████████████████████| 12.2 MB 32.9 MB/s eta 0:00:01\n",
      "\u001b[?25hRequirement already satisfied: python-dateutil>=2.8.1 in ./miniconda3/lib/python3.8/site-packages (from pandas) (2.8.1)\n",
      "Requirement already satisfied: pytz>=2020.1 in ./miniconda3/lib/python3.8/site-packages (from pandas) (2022.2.1)\n",
      "Requirement already satisfied: numpy>=1.20.3 in ./miniconda3/lib/python3.8/site-packages (from pandas) (1.23.1)\n",
      "Requirement already satisfied: six>=1.5 in ./miniconda3/lib/python3.8/site-packages (from python-dateutil>=2.8.1->pandas) (1.16.0)\n",
      "Installing collected packages: pandas\n",
      "Successfully installed pandas-1.5.2\n",
      "\u001b[33mWARNING: Running pip as the 'root' user can result in broken permissions and conflicting behaviour with the system package manager. It is recommended to use a virtual environment instead: https://pip.pypa.io/warnings/venv\u001b[0m\n"
     ]
    }
   ],
   "source": [
    "!pip install sklearn\n",
    "!pip install scikit_learn\n",
    "!pip install pandas"
   ]
  },
  {
   "cell_type": "code",
   "execution_count": 1,
   "id": "8cfa7e70-5c85-416b-a838-fe30bb87c19f",
   "metadata": {},
   "outputs": [
    {
     "name": "stderr",
     "output_type": "stream",
     "text": [
      "2023-03-22 17:43:35.346281: I tensorflow/core/platform/cpu_feature_guard.cc:193] This TensorFlow binary is optimized with oneAPI Deep Neural Network Library (oneDNN) to use the following CPU instructions in performance-critical operations:  AVX2 AVX512F AVX512_VNNI FMA\n",
      "To enable them in other operations, rebuild TensorFlow with the appropriate compiler flags.\n",
      "2023-03-22 17:43:35.478961: I tensorflow/core/util/port.cc:104] oneDNN custom operations are on. You may see slightly different numerical results due to floating-point round-off errors from different computation orders. To turn them off, set the environment variable `TF_ENABLE_ONEDNN_OPTS=0`.\n",
      "2023-03-22 17:43:36.229639: W tensorflow/compiler/xla/stream_executor/platform/default/dso_loader.cc:64] Could not load dynamic library 'libnvinfer.so.7'; dlerror: libnvinfer.so.7: cannot open shared object file: No such file or directory; LD_LIBRARY_PATH: /usr/local/nvidia/lib:/usr/local/nvidia/lib64\n",
      "2023-03-22 17:43:36.229727: W tensorflow/compiler/xla/stream_executor/platform/default/dso_loader.cc:64] Could not load dynamic library 'libnvinfer_plugin.so.7'; dlerror: libnvinfer_plugin.so.7: cannot open shared object file: No such file or directory; LD_LIBRARY_PATH: /usr/local/nvidia/lib:/usr/local/nvidia/lib64\n",
      "2023-03-22 17:43:36.229733: W tensorflow/compiler/tf2tensorrt/utils/py_utils.cc:38] TF-TRT Warning: Cannot dlopen some TensorRT libraries. If you would like to use Nvidia GPU with TensorRT, please make sure the missing libraries mentioned above are installed properly.\n",
      "2023-03-22 17:43:37.529239: I tensorflow/core/platform/cpu_feature_guard.cc:193] This TensorFlow binary is optimized with oneAPI Deep Neural Network Library (oneDNN) to use the following CPU instructions in performance-critical operations:  AVX2 AVX512F AVX512_VNNI FMA\n",
      "To enable them in other operations, rebuild TensorFlow with the appropriate compiler flags.\n",
      "2023-03-22 17:43:38.537510: I tensorflow/core/common_runtime/gpu/gpu_device.cc:1613] Created device /job:localhost/replica:0/task:0/device:GPU:0 with 78977 MB memory:  -> device: 0, name: NVIDIA A100-SXM4-80GB, pci bus id: 0000:6b:01.0, compute capability: 8.0\n"
     ]
    },
    {
     "name": "stdout",
     "output_type": "stream",
     "text": [
      "Epoch 1/10\n"
     ]
    },
    {
     "name": "stderr",
     "output_type": "stream",
     "text": [
      "2023-03-22 17:43:41.269374: I tensorflow/compiler/xla/stream_executor/cuda/cuda_blas.cc:630] TensorFloat-32 will be used for the matrix multiplication. This will only be logged once.\n",
      "2023-03-22 17:43:41.271837: I tensorflow/compiler/xla/service/service.cc:173] XLA service 0x7f2accb71ae0 initialized for platform CUDA (this does not guarantee that XLA will be used). Devices:\n",
      "2023-03-22 17:43:41.271903: I tensorflow/compiler/xla/service/service.cc:181]   StreamExecutor device (0): NVIDIA A100-SXM4-80GB, Compute Capability 8.0\n",
      "2023-03-22 17:43:41.276441: I tensorflow/compiler/mlir/tensorflow/utils/dump_mlir_util.cc:268] disabling MLIR crash reproducer, set env var `MLIR_CRASH_REPRODUCER_DIRECTORY` to enable.\n",
      "2023-03-22 17:43:41.420602: I tensorflow/compiler/jit/xla_compilation_cache.cc:477] Compiled cluster using XLA!  This line is logged at most once for the lifetime of the process.\n"
     ]
    },
    {
     "name": "stdout",
     "output_type": "stream",
     "text": [
      "300/300 [==============================] - 3s 5ms/step - loss: 0.2555 - accuracy: 0.9277 - val_loss: 0.1145 - val_accuracy: 0.9642\n",
      "Epoch 2/10\n",
      "300/300 [==============================] - 1s 3ms/step - loss: 0.0927 - accuracy: 0.9720 - val_loss: 0.0870 - val_accuracy: 0.9710\n",
      "Epoch 3/10\n",
      "300/300 [==============================] - 1s 4ms/step - loss: 0.0586 - accuracy: 0.9821 - val_loss: 0.0701 - val_accuracy: 0.9771\n",
      "Epoch 4/10\n",
      "300/300 [==============================] - 1s 3ms/step - loss: 0.0383 - accuracy: 0.9885 - val_loss: 0.0726 - val_accuracy: 0.9766\n",
      "Epoch 5/10\n",
      "300/300 [==============================] - 1s 4ms/step - loss: 0.0283 - accuracy: 0.9911 - val_loss: 0.0640 - val_accuracy: 0.9800\n",
      "Epoch 6/10\n",
      "300/300 [==============================] - 1s 3ms/step - loss: 0.0212 - accuracy: 0.9934 - val_loss: 0.0702 - val_accuracy: 0.9793\n",
      "Epoch 7/10\n",
      "300/300 [==============================] - 1s 4ms/step - loss: 0.0191 - accuracy: 0.9941 - val_loss: 0.0709 - val_accuracy: 0.9807\n",
      "Epoch 8/10\n",
      "300/300 [==============================] - 1s 3ms/step - loss: 0.0138 - accuracy: 0.9957 - val_loss: 0.0704 - val_accuracy: 0.9817\n",
      "Epoch 9/10\n",
      "300/300 [==============================] - 1s 4ms/step - loss: 0.0112 - accuracy: 0.9964 - val_loss: 0.0900 - val_accuracy: 0.9780\n",
      "Epoch 10/10\n",
      "300/300 [==============================] - 1s 3ms/step - loss: 0.0139 - accuracy: 0.9950 - val_loss: 0.0798 - val_accuracy: 0.9800\n",
      "Epoch 1/10\n",
      "300/300 [==============================] - 2s 3ms/step - loss: 0.0870 - accuracy: 0.9748 - val_loss: 0.0714 - val_accuracy: 0.9770\n",
      "Epoch 2/10\n",
      "300/300 [==============================] - 1s 4ms/step - loss: 0.0159 - accuracy: 0.9956 - val_loss: 0.0675 - val_accuracy: 0.9814\n",
      "Epoch 3/10\n",
      "300/300 [==============================] - 1s 3ms/step - loss: 0.0108 - accuracy: 0.9968 - val_loss: 0.0855 - val_accuracy: 0.9786\n",
      "Epoch 4/10\n",
      "300/300 [==============================] - 1s 4ms/step - loss: 0.0112 - accuracy: 0.9964 - val_loss: 0.0752 - val_accuracy: 0.9816\n",
      "Epoch 5/10\n",
      "300/300 [==============================] - 1s 3ms/step - loss: 0.0091 - accuracy: 0.9973 - val_loss: 0.0763 - val_accuracy: 0.9805\n",
      "Epoch 6/10\n",
      "300/300 [==============================] - 1s 4ms/step - loss: 0.0102 - accuracy: 0.9965 - val_loss: 0.0805 - val_accuracy: 0.9806\n",
      "Epoch 7/10\n",
      "300/300 [==============================] - 1s 3ms/step - loss: 0.0079 - accuracy: 0.9973 - val_loss: 0.0965 - val_accuracy: 0.9774\n",
      "Epoch 8/10\n",
      "300/300 [==============================] - 1s 4ms/step - loss: 0.0056 - accuracy: 0.9983 - val_loss: 0.0783 - val_accuracy: 0.9837\n",
      "Epoch 9/10\n",
      "300/300 [==============================] - 1s 3ms/step - loss: 0.0072 - accuracy: 0.9975 - val_loss: 0.0985 - val_accuracy: 0.9778\n",
      "Epoch 10/10\n",
      "300/300 [==============================] - 1s 4ms/step - loss: 0.0119 - accuracy: 0.9961 - val_loss: 0.1078 - val_accuracy: 0.9778\n"
     ]
    },
    {
     "data": {
      "text/plain": [
       "<keras.callbacks.History at 0x7f44e818aa00>"
      ]
     },
     "execution_count": 1,
     "metadata": {},
     "output_type": "execute_result"
    }
   ],
   "source": [
    "import numpy as np\n",
    "import keras as K\n",
    "from keras.models import Sequential\n",
    "from keras.layers import Dense\n",
    "from keras.utils import np_utils\n",
    "from keras.datasets import mnist\n",
    "\n",
    "# 加载数据\n",
    "(X_train, y_train), (X_test, y_test) = mnist.load_data()\n",
    "\n",
    "# 处理数据\n",
    "num_pixels = X_train.shape[1] * X_train.shape[2]\n",
    "X_train = X_train.reshape(X_train.shape[0], num_pixels).astype('float32')\n",
    "X_test = X_test.reshape(X_test.shape[0], num_pixels).astype('float32')\n",
    "\n",
    "# 标准化数据\n",
    "X_train /= 255\n",
    "X_test /= 255\n",
    "\n",
    "# 对标签进行one-hot编码\n",
    "y_train = np_utils.to_categorical(y_train)\n",
    "y_test = np_utils.to_categorical(y_test)\n",
    "num_classes = y_test.shape[1]\n",
    "\n",
    "# 定义模型\n",
    "model = Sequential()\n",
    "model.add(Dense(512, input_dim=num_pixels, activation='relu'))\n",
    "model.add(Dense(256, activation='relu'))\n",
    "model.add(Dense(num_classes, activation='softmax'))\n",
    "\n",
    "# 编译模型\n",
    "model.compile(loss='categorical_crossentropy', optimizer='adam', metrics=['accuracy'])\n",
    "\n",
    "# 训练模型\n",
    "model.fit(X_train, y_train, validation_data=(X_test, y_test), epochs=10, batch_size=200)\n",
    "\n",
    "# 计算每个神经元互信息\n",
    "from sklearn.feature_selection import mutual_info_classif\n",
    "import pandas as pd\n",
    "\n",
    "# 获取中间层的输出\n",
    "get_layer_output = K.backend.function([model.layers[0].input],\n",
    "                                  [model.layers[1].output])\n",
    "layer_output = get_layer_output([X_train])[0]\n",
    "\n",
    "# 计算互信息\n",
    "mi = mutual_info_classif(layer_output, y_train[:,0])\n",
    "mi_df = pd.DataFrame({'mi': mi})\n",
    "\n",
    "# 对互信息较低的神经元进行剪枝\n",
    "low_mi_indices = mi_df[mi_df['mi'] < 0.05].index\n",
    "pruned_model = Sequential()\n",
    "pruned_model.add(Dense(512, input_dim=num_pixels, activation='relu'))\n",
    "\n",
    "# 删除互信息较低的神经元对应的列，并随机初始化一些新的列\n",
    "old_weights = model.layers[1].get_weights()[0]\n",
    "old_biases = model.layers[1].get_weights()[1]\n",
    "new_weights = np.delete(old_weights, low_mi_indices, axis=1)\n",
    "num_new_cols = old_weights.shape[1] - new_weights.shape[1]\n",
    "new_cols = np.random.randn(new_weights.shape[0], num_new_cols) * 0.01\n",
    "new_weights = np.concatenate([new_weights, new_cols], axis=1)\n",
    "\n",
    "pruned_model.add(Dense(new_weights.shape[1], activation='relu'))\n",
    "pruned_model.add(Dense(num_classes, activation='softmax'))\n",
    "\n",
    "# 拷贝训练好的参数\n",
    "for i, layer in enumerate(pruned_model.layers):\n",
    "    if i == 0:\n",
    "        layer.set_weights(model.layers[i].get_weights())\n",
    "    elif i == 1:\n",
    "        layer.set_weights([new_weights, old_biases])\n",
    "    else:\n",
    "        layer.set_weights(model.layers[i].get_weights())\n",
    "\n",
    "# 重新编译模型\n",
    "pruned_model.compile(loss='categorical_crossentropy', optimizer='adam', metrics=['accuracy'])\n",
    "\n",
    "# 重新训练\n",
    "pruned_model.fit(X_train, y_train, validation_data=(X_test, y_test), epochs=10, batch_size=200)"
   ]
  },
  {
   "cell_type": "code",
   "execution_count": null,
   "id": "173062b3-901e-4b3f-9520-c2f2c1fdd63b",
   "metadata": {},
   "outputs": [],
   "source": []
  }
 ],
 "metadata": {
  "kernelspec": {
   "display_name": "Python 3 (ipykernel)",
   "language": "python",
   "name": "python3"
  },
  "language_info": {
   "codemirror_mode": {
    "name": "ipython",
    "version": 3
   },
   "file_extension": ".py",
   "mimetype": "text/x-python",
   "name": "python",
   "nbconvert_exporter": "python",
   "pygments_lexer": "ipython3",
   "version": "3.8.10"
  }
 },
 "nbformat": 4,
 "nbformat_minor": 5
}
