{
 "cells": [
  {
   "cell_type": "code",
   "execution_count": 1,
   "id": "ef1cef0c-1835-47d2-b7b5-4b929ae42fda",
   "metadata": {},
   "outputs": [
    {
     "name": "stderr",
     "output_type": "stream",
     "text": [
      "2023-03-25 22:24:42.574740: I tensorflow/core/platform/cpu_feature_guard.cc:193] This TensorFlow binary is optimized with oneAPI Deep Neural Network Library (oneDNN) to use the following CPU instructions in performance-critical operations:  AVX2 AVX512F AVX512_VNNI FMA\n",
      "To enable them in other operations, rebuild TensorFlow with the appropriate compiler flags.\n",
      "2023-03-25 22:24:42.696005: I tensorflow/core/util/port.cc:104] oneDNN custom operations are on. You may see slightly different numerical results due to floating-point round-off errors from different computation orders. To turn them off, set the environment variable `TF_ENABLE_ONEDNN_OPTS=0`.\n",
      "2023-03-25 22:24:43.393942: W tensorflow/compiler/xla/stream_executor/platform/default/dso_loader.cc:64] Could not load dynamic library 'libnvinfer.so.7'; dlerror: libnvinfer.so.7: cannot open shared object file: No such file or directory; LD_LIBRARY_PATH: /usr/local/nvidia/lib:/usr/local/nvidia/lib64\n",
      "2023-03-25 22:24:43.394039: W tensorflow/compiler/xla/stream_executor/platform/default/dso_loader.cc:64] Could not load dynamic library 'libnvinfer_plugin.so.7'; dlerror: libnvinfer_plugin.so.7: cannot open shared object file: No such file or directory; LD_LIBRARY_PATH: /usr/local/nvidia/lib:/usr/local/nvidia/lib64\n",
      "2023-03-25 22:24:43.394045: W tensorflow/compiler/tf2tensorrt/utils/py_utils.cc:38] TF-TRT Warning: Cannot dlopen some TensorRT libraries. If you would like to use Nvidia GPU with TensorRT, please make sure the missing libraries mentioned above are installed properly.\n",
      "2023-03-25 22:24:44.687670: I tensorflow/core/platform/cpu_feature_guard.cc:193] This TensorFlow binary is optimized with oneAPI Deep Neural Network Library (oneDNN) to use the following CPU instructions in performance-critical operations:  AVX2 AVX512F AVX512_VNNI FMA\n",
      "To enable them in other operations, rebuild TensorFlow with the appropriate compiler flags.\n",
      "2023-03-25 22:24:45.357308: I tensorflow/core/common_runtime/gpu/gpu_device.cc:1613] Created device /job:localhost/replica:0/task:0/device:GPU:0 with 78977 MB memory:  -> device: 0, name: NVIDIA A100-SXM4-80GB, pci bus id: 0000:6b:02.0, compute capability: 8.0\n"
     ]
    },
    {
     "name": "stdout",
     "output_type": "stream",
     "text": [
      "Epoch 1/10\n"
     ]
    },
    {
     "name": "stderr",
     "output_type": "stream",
     "text": [
      "2023-03-25 22:24:48.147199: I tensorflow/compiler/xla/stream_executor/cuda/cuda_blas.cc:630] TensorFloat-32 will be used for the matrix multiplication. This will only be logged once.\n",
      "2023-03-25 22:24:48.181959: I tensorflow/compiler/xla/service/service.cc:173] XLA service 0x7f609bb32010 initialized for platform CUDA (this does not guarantee that XLA will be used). Devices:\n",
      "2023-03-25 22:24:48.182045: I tensorflow/compiler/xla/service/service.cc:181]   StreamExecutor device (0): NVIDIA A100-SXM4-80GB, Compute Capability 8.0\n",
      "2023-03-25 22:24:48.187188: I tensorflow/compiler/mlir/tensorflow/utils/dump_mlir_util.cc:268] disabling MLIR crash reproducer, set env var `MLIR_CRASH_REPRODUCER_DIRECTORY` to enable.\n",
      "2023-03-25 22:24:48.351057: I tensorflow/compiler/jit/xla_compilation_cache.cc:477] Compiled cluster using XLA!  This line is logged at most once for the lifetime of the process.\n"
     ]
    },
    {
     "name": "stdout",
     "output_type": "stream",
     "text": [
      "300/300 [==============================] - 3s 3ms/step - loss: 0.4181 - accuracy: 0.8713 - val_loss: 0.1454 - val_accuracy: 0.9546\n",
      "Epoch 2/10\n",
      "300/300 [==============================] - 1s 4ms/step - loss: 0.1799 - accuracy: 0.9467 - val_loss: 0.0981 - val_accuracy: 0.9707\n",
      "Epoch 3/10\n",
      "300/300 [==============================] - 1s 3ms/step - loss: 0.1379 - accuracy: 0.9595 - val_loss: 0.0882 - val_accuracy: 0.9726\n",
      "Epoch 4/10\n",
      "300/300 [==============================] - 1s 3ms/step - loss: 0.1176 - accuracy: 0.9645 - val_loss: 0.0737 - val_accuracy: 0.9770\n",
      "Epoch 5/10\n",
      "300/300 [==============================] - 1s 3ms/step - loss: 0.0972 - accuracy: 0.9694 - val_loss: 0.0705 - val_accuracy: 0.9789\n",
      "Epoch 6/10\n",
      "300/300 [==============================] - 1s 3ms/step - loss: 0.0887 - accuracy: 0.9721 - val_loss: 0.0672 - val_accuracy: 0.9786\n",
      "Epoch 7/10\n",
      "300/300 [==============================] - 1s 3ms/step - loss: 0.0834 - accuracy: 0.9744 - val_loss: 0.0655 - val_accuracy: 0.9807\n",
      "Epoch 8/10\n",
      "300/300 [==============================] - 1s 3ms/step - loss: 0.0746 - accuracy: 0.9769 - val_loss: 0.0627 - val_accuracy: 0.9799\n",
      "Epoch 9/10\n",
      "300/300 [==============================] - 1s 3ms/step - loss: 0.0695 - accuracy: 0.9785 - val_loss: 0.0644 - val_accuracy: 0.9807\n",
      "Epoch 10/10\n",
      "300/300 [==============================] - 1s 3ms/step - loss: 0.0653 - accuracy: 0.9794 - val_loss: 0.0598 - val_accuracy: 0.9830\n"
     ]
    },
    {
     "data": {
      "text/plain": [
       "<keras.callbacks.History at 0x7f7b9d7dc7c0>"
      ]
     },
     "execution_count": 1,
     "metadata": {},
     "output_type": "execute_result"
    }
   ],
   "source": [
    "import numpy as np\n",
    "import keras as K\n",
    "from keras.models import Sequential\n",
    "from keras.layers import Dense, Dropout\n",
    "from keras.utils import np_utils\n",
    "from keras.datasets import mnist\n",
    "\n",
    "# 加载数据\n",
    "(X_train, y_train), (X_test, y_test) = mnist.load_data()\n",
    "\n",
    "# 处理数据\n",
    "num_pixels = X_train.shape[1] * X_train.shape[2]\n",
    "X_train = X_train.reshape(X_train.shape[0], num_pixels).astype('float32')\n",
    "X_test = X_test.reshape(X_test.shape[0], num_pixels).astype('float32')\n",
    "\n",
    "# 标准化数据\n",
    "X_train /= 255\n",
    "X_test /= 255\n",
    "\n",
    "# 对标签进行one-hot编码\n",
    "y_train = np_utils.to_categorical(y_train)\n",
    "y_test = np_utils.to_categorical(y_test)\n",
    "num_classes = y_test.shape[1]\n",
    "\n",
    "# 定义模型\n",
    "model = Sequential()\n",
    "model.add(Dense(512, input_dim=num_pixels, activation='relu'))\n",
    "model.add(Dropout(0.5))\n",
    "model.add(Dense(256, activation='relu'))\n",
    "model.add(Dropout(0.5))\n",
    "model.add(Dense(num_classes, activation='softmax'))\n",
    "\n",
    "# 编译模型\n",
    "model.compile(loss='categorical_crossentropy', optimizer='adam', metrics=['accuracy'])\n",
    "\n",
    "# 训练模型\n",
    "model.fit(X_train, y_train, validation_data=(X_test, y_test), epochs=10, batch_size=200)"
   ]
  },
  {
   "cell_type": "code",
   "execution_count": 2,
   "id": "a4083600-c073-4dfe-9a6b-264d76b50453",
   "metadata": {},
   "outputs": [
    {
     "name": "stdout",
     "output_type": "stream",
     "text": [
      "Epoch 1/10\n",
      "300/300 [==============================] - 2s 3ms/step - loss: 1.2237 - accuracy: 0.6028 - val_loss: 0.9276 - val_accuracy: 0.9044\n",
      "Epoch 2/10\n",
      "300/300 [==============================] - 1s 3ms/step - loss: 0.5347 - accuracy: 0.8345 - val_loss: 0.7551 - val_accuracy: 0.9244\n",
      "Epoch 3/10\n",
      "300/300 [==============================] - 1s 3ms/step - loss: 0.4223 - accuracy: 0.8693 - val_loss: 0.6873 - val_accuracy: 0.9339\n",
      "Epoch 4/10\n",
      "300/300 [==============================] - 1s 3ms/step - loss: 0.3611 - accuracy: 0.8912 - val_loss: 0.5573 - val_accuracy: 0.9431\n",
      "Epoch 5/10\n",
      "300/300 [==============================] - 1s 3ms/step - loss: 0.3279 - accuracy: 0.9008 - val_loss: 0.5251 - val_accuracy: 0.9472\n",
      "Epoch 6/10\n",
      "300/300 [==============================] - 1s 3ms/step - loss: 0.2925 - accuracy: 0.9120 - val_loss: 0.4860 - val_accuracy: 0.9529\n",
      "Epoch 7/10\n",
      "300/300 [==============================] - 1s 3ms/step - loss: 0.2707 - accuracy: 0.9180 - val_loss: 0.4648 - val_accuracy: 0.9563\n",
      "Epoch 8/10\n",
      "300/300 [==============================] - 1s 3ms/step - loss: 0.2532 - accuracy: 0.9237 - val_loss: 0.4386 - val_accuracy: 0.9586\n",
      "Epoch 9/10\n",
      "300/300 [==============================] - 1s 3ms/step - loss: 0.2387 - accuracy: 0.9279 - val_loss: 0.4061 - val_accuracy: 0.9614\n",
      "Epoch 10/10\n",
      "300/300 [==============================] - 1s 3ms/step - loss: 0.2255 - accuracy: 0.9322 - val_loss: 0.4015 - val_accuracy: 0.9634\n"
     ]
    },
    {
     "data": {
      "text/plain": [
       "<keras.callbacks.History at 0x7f7b90437f40>"
      ]
     },
     "execution_count": 2,
     "metadata": {},
     "output_type": "execute_result"
    }
   ],
   "source": [
    "import numpy as np\n",
    "import keras as K\n",
    "from keras.models import Sequential\n",
    "from keras.layers import Dense, AlphaDropout\n",
    "from keras.utils import np_utils\n",
    "from keras.datasets import mnist\n",
    "\n",
    "# 加载数据\n",
    "(X_train, y_train), (X_test, y_test) = mnist.load_data()\n",
    "\n",
    "# 处理数据\n",
    "num_pixels = X_train.shape[1] * X_train.shape[2]\n",
    "X_train = X_train.reshape(X_train.shape[0], num_pixels).astype('float32')\n",
    "X_test = X_test.reshape(X_test.shape[0], num_pixels).astype('float32')\n",
    "\n",
    "# 标准化数据\n",
    "X_train /= 255\n",
    "X_test /= 255\n",
    "\n",
    "# 对标签进行one-hot编码\n",
    "y_train = np_utils.to_categorical(y_train)\n",
    "y_test = np_utils.to_categorical(y_test)\n",
    "num_classes = y_test.shape[1]\n",
    "\n",
    "# 定义模型\n",
    "model = Sequential()\n",
    "model.add(Dense(512, input_dim=num_pixels, activation='relu'))\n",
    "model.add(AlphaDropout(0.5))\n",
    "model.add(Dense(256, activation='relu'))\n",
    "model.add(AlphaDropout(0.5))\n",
    "model.add(Dense(num_classes, activation='softmax'))\n",
    "\n",
    "# 编译模型\n",
    "model.compile(loss='categorical_crossentropy', optimizer='adam', metrics=['accuracy'])\n",
    "\n",
    "# 训练模型\n",
    "model.fit(X_train, y_train, validation_data=(X_test, y_test), epochs=10, batch_size=200)"
   ]
  },
  {
   "cell_type": "code",
   "execution_count": 6,
   "id": "f8d2acca-929b-4785-a422-fe6a5de8060e",
   "metadata": {},
   "outputs": [
    {
     "name": "stdout",
     "output_type": "stream",
     "text": [
      "Epoch 1/10\n",
      "300/300 [==============================] - 2s 4ms/step - loss: 0.4151 - accuracy: 0.8726 - val_loss: 0.1427 - val_accuracy: 0.9557\n",
      "Epoch 2/10\n",
      "300/300 [==============================] - 1s 3ms/step - loss: 0.1822 - accuracy: 0.9464 - val_loss: 0.1008 - val_accuracy: 0.9671\n",
      "Epoch 3/10\n",
      "300/300 [==============================] - 1s 3ms/step - loss: 0.1435 - accuracy: 0.9564 - val_loss: 0.0894 - val_accuracy: 0.9712\n",
      "Epoch 4/10\n",
      "300/300 [==============================] - 1s 3ms/step - loss: 0.1191 - accuracy: 0.9639 - val_loss: 0.0749 - val_accuracy: 0.9764\n",
      "Epoch 5/10\n",
      "300/300 [==============================] - 1s 4ms/step - loss: 0.1035 - accuracy: 0.9680 - val_loss: 0.0695 - val_accuracy: 0.9782\n",
      "Epoch 6/10\n",
      "300/300 [==============================] - 1s 3ms/step - loss: 0.0890 - accuracy: 0.9723 - val_loss: 0.0628 - val_accuracy: 0.9811\n",
      "Epoch 7/10\n",
      "300/300 [==============================] - 1s 3ms/step - loss: 0.0844 - accuracy: 0.9736 - val_loss: 0.0632 - val_accuracy: 0.9810\n",
      "Epoch 8/10\n",
      "300/300 [==============================] - 1s 3ms/step - loss: 0.0782 - accuracy: 0.9756 - val_loss: 0.0606 - val_accuracy: 0.9803\n",
      "Epoch 9/10\n",
      "300/300 [==============================] - 1s 3ms/step - loss: 0.0726 - accuracy: 0.9771 - val_loss: 0.0600 - val_accuracy: 0.9827\n",
      "Epoch 10/10\n",
      "300/300 [==============================] - 1s 3ms/step - loss: 0.0661 - accuracy: 0.9783 - val_loss: 0.0620 - val_accuracy: 0.9815\n"
     ]
    },
    {
     "data": {
      "text/plain": [
       "<keras.callbacks.History at 0x7f7b9faf8880>"
      ]
     },
     "execution_count": 6,
     "metadata": {},
     "output_type": "execute_result"
    }
   ],
   "source": [
    "import numpy as np\n",
    "import keras as K\n",
    "from keras.models import Sequential\n",
    "from keras.layers import Dense, GaussianDropout\n",
    "from keras.utils import np_utils\n",
    "from keras.datasets import mnist\n",
    "\n",
    "# 加载数据\n",
    "(X_train, y_train), (X_test, y_test) = mnist.load_data()\n",
    "\n",
    "# 处理数据\n",
    "num_pixels = X_train.shape[1] * X_train.shape[2]\n",
    "X_train = X_train.reshape(X_train.shape[0], num_pixels).astype('float32')\n",
    "X_test = X_test.reshape(X_test.shape[0], num_pixels).astype('float32')\n",
    "\n",
    "# 标准化数据\n",
    "X_train /= 255\n",
    "X_test /= 255\n",
    "\n",
    "# 对标签进行one-hot编码\n",
    "y_train = np_utils.to_categorical(y_train)\n",
    "y_test = np_utils.to_categorical(y_test)\n",
    "num_classes = y_test.shape[1]\n",
    "\n",
    "# 定义模型\n",
    "model = Sequential()\n",
    "model.add(Dense(512, input_dim=num_pixels, activation='relu'))\n",
    "model.add(GaussianDropout(0.5))\n",
    "model.add(Dense(256, activation='relu'))\n",
    "model.add(GaussianDropout(0.5))\n",
    "model.add(Dense(num_classes, activation='softmax'))\n",
    "\n",
    "# 编译模型\n",
    "model.compile(loss='categorical_crossentropy', optimizer='adam', metrics=['accuracy'])\n",
    "\n",
    "# 训练模型\n",
    "model.fit(X_train, y_train, validation_data=(X_test, y_test), epochs=10, batch_size=200)"
   ]
  },
  {
   "cell_type": "code",
   "execution_count": null,
   "id": "9d910965-8160-4df0-a891-407367ff50cc",
   "metadata": {},
   "outputs": [],
   "source": []
  }
 ],
 "metadata": {
  "kernelspec": {
   "display_name": "Python 3 (ipykernel)",
   "language": "python",
   "name": "python3"
  },
  "language_info": {
   "codemirror_mode": {
    "name": "ipython",
    "version": 3
   },
   "file_extension": ".py",
   "mimetype": "text/x-python",
   "name": "python",
   "nbconvert_exporter": "python",
   "pygments_lexer": "ipython3",
   "version": "3.8.10"
  }
 },
 "nbformat": 4,
 "nbformat_minor": 5
}
