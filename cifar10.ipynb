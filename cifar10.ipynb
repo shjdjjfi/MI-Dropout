{
 "cells": [
  {
   "cell_type": "code",
   "execution_count": 1,
   "id": "bb30a67b-adf8-4097-975d-fd8ca7ca5ca7",
   "metadata": {},
   "outputs": [
    {
     "name": "stderr",
     "output_type": "stream",
     "text": [
      "2023-03-26 17:30:59.122885: I tensorflow/core/platform/cpu_feature_guard.cc:193] This TensorFlow binary is optimized with oneAPI Deep Neural Network Library (oneDNN) to use the following CPU instructions in performance-critical operations:  AVX2 AVX512F AVX512_VNNI FMA\n",
      "To enable them in other operations, rebuild TensorFlow with the appropriate compiler flags.\n",
      "2023-03-26 17:30:59.237405: I tensorflow/core/util/port.cc:104] oneDNN custom operations are on. You may see slightly different numerical results due to floating-point round-off errors from different computation orders. To turn them off, set the environment variable `TF_ENABLE_ONEDNN_OPTS=0`.\n",
      "2023-03-26 17:30:59.898841: W tensorflow/compiler/xla/stream_executor/platform/default/dso_loader.cc:64] Could not load dynamic library 'libnvinfer.so.7'; dlerror: libnvinfer.so.7: cannot open shared object file: No such file or directory; LD_LIBRARY_PATH: /usr/local/nvidia/lib:/usr/local/nvidia/lib64\n",
      "2023-03-26 17:30:59.898923: W tensorflow/compiler/xla/stream_executor/platform/default/dso_loader.cc:64] Could not load dynamic library 'libnvinfer_plugin.so.7'; dlerror: libnvinfer_plugin.so.7: cannot open shared object file: No such file or directory; LD_LIBRARY_PATH: /usr/local/nvidia/lib:/usr/local/nvidia/lib64\n",
      "2023-03-26 17:30:59.898929: W tensorflow/compiler/tf2tensorrt/utils/py_utils.cc:38] TF-TRT Warning: Cannot dlopen some TensorRT libraries. If you would like to use Nvidia GPU with TensorRT, please make sure the missing libraries mentioned above are installed properly.\n",
      "2023-03-26 17:31:02.091297: I tensorflow/core/platform/cpu_feature_guard.cc:193] This TensorFlow binary is optimized with oneAPI Deep Neural Network Library (oneDNN) to use the following CPU instructions in performance-critical operations:  AVX2 AVX512F AVX512_VNNI FMA\n",
      "To enable them in other operations, rebuild TensorFlow with the appropriate compiler flags.\n",
      "2023-03-26 17:31:02.682099: I tensorflow/core/common_runtime/gpu/gpu_device.cc:1613] Created device /job:localhost/replica:0/task:0/device:GPU:0 with 78977 MB memory:  -> device: 0, name: NVIDIA A100-SXM4-80GB, pci bus id: 0000:65:01.0, compute capability: 8.0\n"
     ]
    },
    {
     "name": "stdout",
     "output_type": "stream",
     "text": [
      "Epoch 1/10\n"
     ]
    },
    {
     "name": "stderr",
     "output_type": "stream",
     "text": [
      "2023-03-26 17:31:05.568977: I tensorflow/compiler/xla/stream_executor/cuda/cuda_blas.cc:630] TensorFloat-32 will be used for the matrix multiplication. This will only be logged once.\n",
      "2023-03-26 17:31:05.571576: I tensorflow/compiler/xla/service/service.cc:173] XLA service 0x7fbd3d3acd50 initialized for platform CUDA (this does not guarantee that XLA will be used). Devices:\n",
      "2023-03-26 17:31:05.571646: I tensorflow/compiler/xla/service/service.cc:181]   StreamExecutor device (0): NVIDIA A100-SXM4-80GB, Compute Capability 8.0\n",
      "2023-03-26 17:31:05.575862: I tensorflow/compiler/mlir/tensorflow/utils/dump_mlir_util.cc:268] disabling MLIR crash reproducer, set env var `MLIR_CRASH_REPRODUCER_DIRECTORY` to enable.\n",
      "2023-03-26 17:31:05.717375: I tensorflow/compiler/jit/xla_compilation_cache.cc:477] Compiled cluster using XLA!  This line is logged at most once for the lifetime of the process.\n"
     ]
    },
    {
     "name": "stdout",
     "output_type": "stream",
     "text": [
      "250/250 [==============================] - 3s 4ms/step - loss: 2.1226 - accuracy: 0.2077 - val_loss: 1.9151 - val_accuracy: 0.3107\n",
      "Epoch 2/10\n",
      "250/250 [==============================] - 1s 3ms/step - loss: 1.9986 - accuracy: 0.2517 - val_loss: 1.8855 - val_accuracy: 0.3337\n",
      "Epoch 3/10\n",
      "250/250 [==============================] - 1s 3ms/step - loss: 1.9682 - accuracy: 0.2608 - val_loss: 1.8861 - val_accuracy: 0.3441\n",
      "Epoch 4/10\n",
      "250/250 [==============================] - 1s 3ms/step - loss: 1.9462 - accuracy: 0.2733 - val_loss: 1.8983 - val_accuracy: 0.3395\n",
      "Epoch 5/10\n",
      "250/250 [==============================] - 1s 3ms/step - loss: 1.9407 - accuracy: 0.2756 - val_loss: 1.8882 - val_accuracy: 0.3402\n",
      "Epoch 6/10\n",
      "250/250 [==============================] - 1s 3ms/step - loss: 1.9335 - accuracy: 0.2782 - val_loss: 1.9036 - val_accuracy: 0.3547\n",
      "Epoch 7/10\n",
      "250/250 [==============================] - 1s 3ms/step - loss: 1.9245 - accuracy: 0.2801 - val_loss: 1.9276 - val_accuracy: 0.3211\n",
      "Epoch 8/10\n",
      "250/250 [==============================] - 1s 3ms/step - loss: 1.9118 - accuracy: 0.2880 - val_loss: 1.8965 - val_accuracy: 0.3387\n",
      "Epoch 9/10\n",
      "250/250 [==============================] - 1s 3ms/step - loss: 1.9119 - accuracy: 0.2900 - val_loss: 1.8777 - val_accuracy: 0.3657\n",
      "Epoch 10/10\n",
      "250/250 [==============================] - 1s 3ms/step - loss: 1.9093 - accuracy: 0.2862 - val_loss: 1.8874 - val_accuracy: 0.3535\n"
     ]
    },
    {
     "data": {
      "text/plain": [
       "<keras.callbacks.History at 0x7fd8747745b0>"
      ]
     },
     "execution_count": 1,
     "metadata": {},
     "output_type": "execute_result"
    }
   ],
   "source": [
    "import numpy as np\n",
    "import keras as K\n",
    "import  tensorflow as  tf\n",
    "from keras.models import Sequential\n",
    "from keras.layers import Dense, Dropout\n",
    "from keras.utils import np_utils\n",
    "from keras.datasets import cifar10\n",
    "\n",
    "\n",
    "# 加载数据\n",
    "(X_train, y_train), (X_test, y_test) = cifar10.load_data()\n",
    "\n",
    "# 处理数据\n",
    "num_pixels = X_train.shape[1] * X_train.shape[2] * X_train.shape[3]\n",
    "X_train = X_train.reshape(X_train.shape[0], num_pixels).astype('float32')\n",
    "X_test = X_test.reshape(X_test.shape[0], num_pixels).astype('float32')\n",
    "\n",
    "# 标准化数据\n",
    "X_train /= 255\n",
    "X_test /= 255\n",
    "\n",
    "# 对标签进行one-hot编码\n",
    "y_train = np_utils.to_categorical(y_train)\n",
    "y_test = np_utils.to_categorical(y_test)\n",
    "num_classes = y_test.shape[1]\n",
    "\n",
    "# 定义模型\n",
    "model = Sequential()\n",
    "model.add(Dense(512, input_dim=num_pixels, activation='relu'))\n",
    "model.add(Dropout(0.5))\n",
    "model.add(Dense(256, activation='relu'))\n",
    "model.add(Dropout(0.5))\n",
    "model.add(Dense(num_classes, activation='softmax'))\n",
    "\n",
    "# 编译模型\n",
    "model.compile(loss='categorical_crossentropy', optimizer='adam', metrics=['accuracy'])\n",
    "\n",
    "# 训练模型\n",
    "model.fit(X_train, y_train, validation_data=(X_test, y_test), epochs=10, batch_size=200)"
   ]
  },
  {
   "cell_type": "code",
   "execution_count": 2,
   "id": "8aed78eb-8a5c-477d-ae03-fee0cfaaa85c",
   "metadata": {},
   "outputs": [
    {
     "name": "stdout",
     "output_type": "stream",
     "text": [
      "Epoch 1/10\n",
      "250/250 [==============================] - 2s 4ms/step - loss: 2.4886 - accuracy: 0.1414 - val_loss: 2.3606 - val_accuracy: 0.2508\n",
      "Epoch 2/10\n",
      "250/250 [==============================] - 1s 3ms/step - loss: 2.1094 - accuracy: 0.2105 - val_loss: 2.6587 - val_accuracy: 0.2800\n",
      "Epoch 3/10\n",
      "250/250 [==============================] - 1s 3ms/step - loss: 2.0009 - accuracy: 0.2524 - val_loss: 2.7263 - val_accuracy: 0.3042\n",
      "Epoch 4/10\n",
      "250/250 [==============================] - 1s 3ms/step - loss: 1.9579 - accuracy: 0.2766 - val_loss: 2.6493 - val_accuracy: 0.3446\n",
      "Epoch 5/10\n",
      "250/250 [==============================] - 1s 3ms/step - loss: 1.9258 - accuracy: 0.2886 - val_loss: 2.6941 - val_accuracy: 0.3537\n",
      "Epoch 6/10\n",
      "250/250 [==============================] - 1s 4ms/step - loss: 1.9079 - accuracy: 0.2961 - val_loss: 2.7153 - val_accuracy: 0.3576\n",
      "Epoch 7/10\n",
      "250/250 [==============================] - 1s 4ms/step - loss: 1.8924 - accuracy: 0.3066 - val_loss: 2.6840 - val_accuracy: 0.3736\n",
      "Epoch 8/10\n",
      "250/250 [==============================] - 1s 3ms/step - loss: 1.8776 - accuracy: 0.3120 - val_loss: 2.5935 - val_accuracy: 0.3778\n",
      "Epoch 9/10\n",
      "250/250 [==============================] - 1s 3ms/step - loss: 1.8686 - accuracy: 0.3126 - val_loss: 2.5698 - val_accuracy: 0.3880\n",
      "Epoch 10/10\n",
      "250/250 [==============================] - 1s 3ms/step - loss: 1.8531 - accuracy: 0.3221 - val_loss: 2.6257 - val_accuracy: 0.3944\n"
     ]
    },
    {
     "data": {
      "text/plain": [
       "<keras.callbacks.History at 0x7fd8743f2cd0>"
      ]
     },
     "execution_count": 2,
     "metadata": {},
     "output_type": "execute_result"
    }
   ],
   "source": [
    "import numpy as np\n",
    "import keras as K\n",
    "import  tensorflow as  tf\n",
    "from keras.models import Sequential\n",
    "from keras.layers import Dense, AlphaDropout\n",
    "from keras.utils import np_utils\n",
    "from keras.datasets import cifar10\n",
    "\n",
    "\n",
    "# 加载数据\n",
    "(X_train, y_train), (X_test, y_test) = cifar10.load_data()\n",
    "\n",
    "# 处理数据\n",
    "num_pixels = X_train.shape[1] * X_train.shape[2] * X_train.shape[3]\n",
    "X_train = X_train.reshape(X_train.shape[0], num_pixels).astype('float32')\n",
    "X_test = X_test.reshape(X_test.shape[0], num_pixels).astype('float32')\n",
    "\n",
    "# 标准化数据\n",
    "X_train /= 255\n",
    "X_test /= 255\n",
    "\n",
    "# 对标签进行one-hot编码\n",
    "y_train = np_utils.to_categorical(y_train)\n",
    "y_test = np_utils.to_categorical(y_test)\n",
    "num_classes = y_test.shape[1]\n",
    "\n",
    "# 定义模型\n",
    "model = Sequential()\n",
    "model.add(Dense(512, input_dim=num_pixels, activation='relu'))\n",
    "model.add(AlphaDropout(0.5))\n",
    "model.add(Dense(256, activation='relu'))\n",
    "model.add(AlphaDropout(0.5))\n",
    "model.add(Dense(num_classes, activation='softmax'))\n",
    "\n",
    "# 编译模型\n",
    "model.compile(loss='categorical_crossentropy', optimizer='adam', metrics=['accuracy'])\n",
    "\n",
    "# 训练模型\n",
    "model.fit(X_train, y_train, validation_data=(X_test, y_test), epochs=10, batch_size=200)"
   ]
  },
  {
   "cell_type": "code",
   "execution_count": 3,
   "id": "66226994-3b4c-4d91-9100-697d42310708",
   "metadata": {},
   "outputs": [
    {
     "name": "stdout",
     "output_type": "stream",
     "text": [
      "Epoch 1/10\n",
      "250/250 [==============================] - 2s 4ms/step - loss: 2.1452 - accuracy: 0.1983 - val_loss: 1.9528 - val_accuracy: 0.2890\n",
      "Epoch 2/10\n",
      "250/250 [==============================] - 1s 3ms/step - loss: 2.0220 - accuracy: 0.2470 - val_loss: 1.9383 - val_accuracy: 0.3061\n",
      "Epoch 3/10\n",
      "250/250 [==============================] - 1s 3ms/step - loss: 1.9746 - accuracy: 0.2726 - val_loss: 1.8728 - val_accuracy: 0.3288\n",
      "Epoch 4/10\n",
      "250/250 [==============================] - 1s 3ms/step - loss: 1.9475 - accuracy: 0.2867 - val_loss: 1.8857 - val_accuracy: 0.3352\n",
      "Epoch 5/10\n",
      "250/250 [==============================] - 1s 3ms/step - loss: 1.9197 - accuracy: 0.3019 - val_loss: 1.8263 - val_accuracy: 0.3537\n",
      "Epoch 6/10\n",
      "250/250 [==============================] - 1s 3ms/step - loss: 1.9095 - accuracy: 0.3057 - val_loss: 1.8141 - val_accuracy: 0.3630\n",
      "Epoch 7/10\n",
      "250/250 [==============================] - 1s 3ms/step - loss: 1.8962 - accuracy: 0.3118 - val_loss: 1.8095 - val_accuracy: 0.3477\n",
      "Epoch 8/10\n",
      "250/250 [==============================] - 1s 3ms/step - loss: 1.8801 - accuracy: 0.3170 - val_loss: 1.7844 - val_accuracy: 0.3743\n",
      "Epoch 9/10\n",
      "250/250 [==============================] - 1s 3ms/step - loss: 1.8745 - accuracy: 0.3215 - val_loss: 1.7999 - val_accuracy: 0.3518\n",
      "Epoch 10/10\n",
      "250/250 [==============================] - 1s 3ms/step - loss: 1.8731 - accuracy: 0.3204 - val_loss: 1.7669 - val_accuracy: 0.3710\n"
     ]
    },
    {
     "data": {
      "text/plain": [
       "<keras.callbacks.History at 0x7fd84fa14700>"
      ]
     },
     "execution_count": 3,
     "metadata": {},
     "output_type": "execute_result"
    }
   ],
   "source": [
    "import numpy as np\n",
    "import keras as K\n",
    "import  tensorflow as  tf\n",
    "from keras.models import Sequential\n",
    "from keras.layers import Dense, GaussianDropout\n",
    "from keras.utils import np_utils\n",
    "from keras.datasets import cifar10\n",
    "\n",
    "\n",
    "# 加载数据\n",
    "(X_train, y_train), (X_test, y_test) = cifar10.load_data()\n",
    "\n",
    "# 处理数据\n",
    "num_pixels = X_train.shape[1] * X_train.shape[2] * X_train.shape[3]\n",
    "X_train = X_train.reshape(X_train.shape[0], num_pixels).astype('float32')\n",
    "X_test = X_test.reshape(X_test.shape[0], num_pixels).astype('float32')\n",
    "\n",
    "# 标准化数据\n",
    "X_train /= 255\n",
    "X_test /= 255\n",
    "\n",
    "# 对标签进行one-hot编码\n",
    "y_train = np_utils.to_categorical(y_train)\n",
    "y_test = np_utils.to_categorical(y_test)\n",
    "num_classes = y_test.shape[1]\n",
    "\n",
    "# 定义模型\n",
    "model = Sequential()\n",
    "model.add(Dense(512, input_dim=num_pixels, activation='relu'))\n",
    "model.add(GaussianDropout(0.5))\n",
    "model.add(Dense(256, activation='relu'))\n",
    "model.add(GaussianDropout(0.5))\n",
    "model.add(Dense(num_classes, activation='softmax'))\n",
    "\n",
    "# 编译模型\n",
    "model.compile(loss='categorical_crossentropy', optimizer='adam', metrics=['accuracy'])\n",
    "\n",
    "# 训练模型\n",
    "model.fit(X_train, y_train, validation_data=(X_test, y_test), epochs=10, batch_size=200)"
   ]
  },
  {
   "cell_type": "code",
   "execution_count": null,
   "id": "7895e68b-be3b-46ff-ab0d-0d2bca11c58d",
   "metadata": {},
   "outputs": [],
   "source": []
  }
 ],
 "metadata": {
  "kernelspec": {
   "display_name": "Python 3 (ipykernel)",
   "language": "python",
   "name": "python3"
  },
  "language_info": {
   "codemirror_mode": {
    "name": "ipython",
    "version": 3
   },
   "file_extension": ".py",
   "mimetype": "text/x-python",
   "name": "python",
   "nbconvert_exporter": "python",
   "pygments_lexer": "ipython3",
   "version": "3.8.10"
  }
 },
 "nbformat": 4,
 "nbformat_minor": 5
}
