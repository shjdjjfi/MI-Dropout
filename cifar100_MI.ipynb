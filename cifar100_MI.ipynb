{
 "cells": [
  {
   "cell_type": "code",
   "execution_count": 1,
   "id": "15485c40-d5fb-4440-8a91-dc403da245c5",
   "metadata": {},
   "outputs": [
    {
     "name": "stderr",
     "output_type": "stream",
     "text": [
      "2023-03-26 17:35:26.303800: I tensorflow/core/platform/cpu_feature_guard.cc:193] This TensorFlow binary is optimized with oneAPI Deep Neural Network Library (oneDNN) to use the following CPU instructions in performance-critical operations:  AVX2 AVX512F AVX512_VNNI FMA\n",
      "To enable them in other operations, rebuild TensorFlow with the appropriate compiler flags.\n",
      "2023-03-26 17:35:26.419730: I tensorflow/core/util/port.cc:104] oneDNN custom operations are on. You may see slightly different numerical results due to floating-point round-off errors from different computation orders. To turn them off, set the environment variable `TF_ENABLE_ONEDNN_OPTS=0`.\n",
      "2023-03-26 17:35:27.094787: W tensorflow/compiler/xla/stream_executor/platform/default/dso_loader.cc:64] Could not load dynamic library 'libnvinfer.so.7'; dlerror: libnvinfer.so.7: cannot open shared object file: No such file or directory; LD_LIBRARY_PATH: /usr/local/nvidia/lib:/usr/local/nvidia/lib64\n",
      "2023-03-26 17:35:27.094872: W tensorflow/compiler/xla/stream_executor/platform/default/dso_loader.cc:64] Could not load dynamic library 'libnvinfer_plugin.so.7'; dlerror: libnvinfer_plugin.so.7: cannot open shared object file: No such file or directory; LD_LIBRARY_PATH: /usr/local/nvidia/lib:/usr/local/nvidia/lib64\n",
      "2023-03-26 17:35:27.094878: W tensorflow/compiler/tf2tensorrt/utils/py_utils.cc:38] TF-TRT Warning: Cannot dlopen some TensorRT libraries. If you would like to use Nvidia GPU with TensorRT, please make sure the missing libraries mentioned above are installed properly.\n",
      "2023-03-26 17:35:29.302587: I tensorflow/core/platform/cpu_feature_guard.cc:193] This TensorFlow binary is optimized with oneAPI Deep Neural Network Library (oneDNN) to use the following CPU instructions in performance-critical operations:  AVX2 AVX512F AVX512_VNNI FMA\n",
      "To enable them in other operations, rebuild TensorFlow with the appropriate compiler flags.\n",
      "2023-03-26 17:35:29.947752: I tensorflow/core/common_runtime/gpu/gpu_device.cc:1613] Created device /job:localhost/replica:0/task:0/device:GPU:0 with 78977 MB memory:  -> device: 0, name: NVIDIA A100-SXM4-80GB, pci bus id: 0000:65:01.0, compute capability: 8.0\n"
     ]
    },
    {
     "name": "stdout",
     "output_type": "stream",
     "text": [
      "Epoch 1/10\n"
     ]
    },
    {
     "name": "stderr",
     "output_type": "stream",
     "text": [
      "2023-03-26 17:35:32.914615: I tensorflow/compiler/xla/stream_executor/cuda/cuda_blas.cc:630] TensorFloat-32 will be used for the matrix multiplication. This will only be logged once.\n",
      "2023-03-26 17:35:32.917091: I tensorflow/compiler/xla/service/service.cc:173] XLA service 0x7f93b3fe4940 initialized for platform CUDA (this does not guarantee that XLA will be used). Devices:\n",
      "2023-03-26 17:35:32.917148: I tensorflow/compiler/xla/service/service.cc:181]   StreamExecutor device (0): NVIDIA A100-SXM4-80GB, Compute Capability 8.0\n",
      "2023-03-26 17:35:32.921397: I tensorflow/compiler/mlir/tensorflow/utils/dump_mlir_util.cc:268] disabling MLIR crash reproducer, set env var `MLIR_CRASH_REPRODUCER_DIRECTORY` to enable.\n",
      "2023-03-26 17:35:33.061372: I tensorflow/compiler/jit/xla_compilation_cache.cc:477] Compiled cluster using XLA!  This line is logged at most once for the lifetime of the process.\n"
     ]
    },
    {
     "name": "stdout",
     "output_type": "stream",
     "text": [
      "250/250 [==============================] - 3s 5ms/step - loss: 4.1785 - accuracy: 0.0664 - val_loss: 3.9274 - val_accuracy: 0.0987\n",
      "Epoch 2/10\n",
      "250/250 [==============================] - 1s 3ms/step - loss: 3.7462 - accuracy: 0.1319 - val_loss: 3.6561 - val_accuracy: 0.1448\n",
      "Epoch 3/10\n",
      "250/250 [==============================] - 1s 4ms/step - loss: 3.5734 - accuracy: 0.1613 - val_loss: 3.5603 - val_accuracy: 0.1690\n",
      "Epoch 4/10\n",
      "250/250 [==============================] - 1s 4ms/step - loss: 3.4515 - accuracy: 0.1817 - val_loss: 3.4854 - val_accuracy: 0.1857\n",
      "Epoch 5/10\n",
      "250/250 [==============================] - 1s 3ms/step - loss: 3.3582 - accuracy: 0.1995 - val_loss: 3.4386 - val_accuracy: 0.1901\n",
      "Epoch 6/10\n",
      "250/250 [==============================] - 1s 3ms/step - loss: 3.2734 - accuracy: 0.2149 - val_loss: 3.3749 - val_accuracy: 0.2016\n",
      "Epoch 7/10\n",
      "250/250 [==============================] - 1s 3ms/step - loss: 3.2072 - accuracy: 0.2273 - val_loss: 3.3610 - val_accuracy: 0.2036\n",
      "Epoch 8/10\n",
      "250/250 [==============================] - 1s 3ms/step - loss: 3.1472 - accuracy: 0.2371 - val_loss: 3.2994 - val_accuracy: 0.2184\n",
      "Epoch 9/10\n",
      "250/250 [==============================] - 1s 3ms/step - loss: 3.0855 - accuracy: 0.2491 - val_loss: 3.2860 - val_accuracy: 0.2171\n",
      "Epoch 10/10\n",
      "250/250 [==============================] - 1s 3ms/step - loss: 3.0427 - accuracy: 0.2570 - val_loss: 3.2691 - val_accuracy: 0.2260\n",
      "Epoch 1/10\n",
      "250/250 [==============================] - 2s 4ms/step - loss: 3.5233 - accuracy: 0.1713 - val_loss: 3.3776 - val_accuracy: 0.1987\n",
      "Epoch 2/10\n",
      "250/250 [==============================] - 1s 3ms/step - loss: 3.2130 - accuracy: 0.2225 - val_loss: 3.3299 - val_accuracy: 0.2100\n",
      "Epoch 3/10\n",
      "250/250 [==============================] - 1s 3ms/step - loss: 3.1068 - accuracy: 0.2439 - val_loss: 3.2593 - val_accuracy: 0.2218\n",
      "Epoch 4/10\n",
      "250/250 [==============================] - 1s 3ms/step - loss: 3.0308 - accuracy: 0.2579 - val_loss: 3.2206 - val_accuracy: 0.2295\n",
      "Epoch 5/10\n",
      "250/250 [==============================] - 1s 3ms/step - loss: 2.9667 - accuracy: 0.2694 - val_loss: 3.2109 - val_accuracy: 0.2334\n",
      "Epoch 6/10\n",
      "250/250 [==============================] - 1s 3ms/step - loss: 2.9097 - accuracy: 0.2799 - val_loss: 3.1843 - val_accuracy: 0.2465\n",
      "Epoch 7/10\n",
      "250/250 [==============================] - 1s 3ms/step - loss: 2.8617 - accuracy: 0.2903 - val_loss: 3.1903 - val_accuracy: 0.2364\n",
      "Epoch 8/10\n",
      "250/250 [==============================] - 1s 3ms/step - loss: 2.8134 - accuracy: 0.2971 - val_loss: 3.1606 - val_accuracy: 0.2466\n",
      "Epoch 9/10\n",
      "250/250 [==============================] - 1s 3ms/step - loss: 2.7700 - accuracy: 0.3062 - val_loss: 3.1761 - val_accuracy: 0.2505\n",
      "Epoch 10/10\n",
      "250/250 [==============================] - 1s 3ms/step - loss: 2.7232 - accuracy: 0.3124 - val_loss: 3.1564 - val_accuracy: 0.2480\n"
     ]
    },
    {
     "data": {
      "text/plain": [
       "<keras.callbacks.History at 0x7fad884d1700>"
      ]
     },
     "execution_count": 1,
     "metadata": {},
     "output_type": "execute_result"
    }
   ],
   "source": [
    "import numpy as np\n",
    "import keras as K\n",
    "import  tensorflow as  tf\n",
    "from keras.models import Sequential\n",
    "from keras.layers import Dense\n",
    "from keras.utils import np_utils\n",
    "from keras.datasets import cifar100\n",
    "\n",
    "\n",
    "# 加载数据\n",
    "(X_train, y_train), (X_test, y_test) = cifar100.load_data()\n",
    "\n",
    "# 处理数据\n",
    "num_pixels = X_train.shape[1] * X_train.shape[2] * X_train.shape[3]\n",
    "X_train = X_train.reshape(X_train.shape[0], num_pixels).astype('float32')\n",
    "X_test = X_test.reshape(X_test.shape[0], num_pixels).astype('float32')\n",
    "\n",
    "# 标准化数据\n",
    "X_train /= 255\n",
    "X_test /= 255\n",
    "\n",
    "# 对标签进行one-hot编码\n",
    "y_train = np_utils.to_categorical(y_train)\n",
    "y_test = np_utils.to_categorical(y_test)\n",
    "num_classes = y_test.shape[1]\n",
    "\n",
    "# 定义模型\n",
    "model = Sequential()\n",
    "model.add(Dense(512, input_dim=num_pixels, activation='relu'))\n",
    "model.add(Dense(256, activation='relu'))\n",
    "model.add(Dense(num_classes, activation='softmax'))\n",
    "\n",
    "# 编译模型\n",
    "model.compile(loss='categorical_crossentropy', optimizer='adam', metrics=['accuracy'])\n",
    "\n",
    "# 训练模型\n",
    "model.fit(X_train, y_train, validation_data=(X_test, y_test), epochs=10, batch_size=200)\n",
    "\n",
    "# 计算每个神经元互信息\n",
    "from sklearn.feature_selection import mutual_info_classif\n",
    "import pandas as pd\n",
    "\n",
    "# 获取中间层的输出\n",
    "get_layer_output = K.backend.function([model.layers[0].input],\n",
    "                                  [model.layers[1].output])\n",
    "layer_output = get_layer_output([X_train])[0]\n",
    "\n",
    "# 计算互信息\n",
    "mi = mutual_info_classif(layer_output, y_train[:,0])\n",
    "mi_df = pd.DataFrame({'mi': mi})\n",
    "\n",
    "# 对互信息较低的神经元进行剪枝\n",
    "low_mi_indices = mi_df[mi_df['mi'] < 0.05].index\n",
    "pruned_model = Sequential()\n",
    "pruned_model.add(Dense(512, input_dim=num_pixels, activation='relu'))\n",
    "\n",
    "# 删除互信息较低的神经元对应的列，并随机初始化一些新的列\n",
    "old_weights = model.layers[1].get_weights()[0]\n",
    "old_biases = model.layers[1].get_weights()[1]\n",
    "new_weights = np.delete(old_weights, low_mi_indices, axis=1)\n",
    "num_new_cols = old_weights.shape[1] - new_weights.shape[1]\n",
    "new_cols = np.random.randn(new_weights.shape[0], num_new_cols) * 0.01\n",
    "new_weights = np.concatenate([new_weights, new_cols], axis=1)\n",
    "\n",
    "pruned_model.add(Dense(new_weights.shape[1], activation='relu'))\n",
    "pruned_model.add(Dense(num_classes, activation='softmax'))\n",
    "\n",
    "# 拷贝训练好的参数\n",
    "for i, layer in enumerate(pruned_model.layers):\n",
    "    if i == 0:\n",
    "        layer.set_weights(model.layers[i].get_weights())\n",
    "    elif i == 1:\n",
    "        layer.set_weights([new_weights, old_biases])\n",
    "    else:\n",
    "        layer.set_weights(model.layers[i].get_weights())\n",
    "\n",
    "# 重新编译模型\n",
    "pruned_model.compile(loss='categorical_crossentropy', optimizer='adam', metrics=['accuracy'])\n",
    "\n",
    "# 重新训练\n",
    "pruned_model.fit(X_train, y_train, validation_data=(X_test, y_test), epochs=10, batch_size=200)"
   ]
  },
  {
   "cell_type": "code",
   "execution_count": null,
   "id": "2f2add37-bfae-4bc0-907b-b80c1eae717e",
   "metadata": {},
   "outputs": [],
   "source": []
  },
  {
   "cell_type": "code",
   "execution_count": null,
   "id": "b60fc12a-6fd6-4f21-8a87-5212dc8c73c5",
   "metadata": {},
   "outputs": [],
   "source": []
  }
 ],
 "metadata": {
  "kernelspec": {
   "display_name": "Python 3 (ipykernel)",
   "language": "python",
   "name": "python3"
  },
  "language_info": {
   "codemirror_mode": {
    "name": "ipython",
    "version": 3
   },
   "file_extension": ".py",
   "mimetype": "text/x-python",
   "name": "python",
   "nbconvert_exporter": "python",
   "pygments_lexer": "ipython3",
   "version": "3.8.10"
  }
 },
 "nbformat": 4,
 "nbformat_minor": 5
}
